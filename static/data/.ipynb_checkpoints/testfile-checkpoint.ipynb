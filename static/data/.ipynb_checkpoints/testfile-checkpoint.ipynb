{
 "cells": [
  {
   "cell_type": "code",
   "execution_count": 1,
   "metadata": {
    "collapsed": true
   },
   "outputs": [],
   "source": [
    "import json\n",
    "import pandas as pd\n",
    "import numpy as np"
   ]
  },
  {
   "cell_type": "code",
   "execution_count": 2,
   "metadata": {
    "collapsed": true
   },
   "outputs": [],
   "source": [
    "df = pd.read_csv('data2.csv')"
   ]
  },
  {
   "cell_type": "code",
   "execution_count": 4,
   "metadata": {},
   "outputs": [],
   "source": [
    "df.to_json(\"data2.json\")"
   ]
  },
  {
   "cell_type": "code",
   "execution_count": 5,
   "metadata": {
    "collapsed": true
   },
   "outputs": [],
   "source": [
    "temp = pd.read_json(\"data2.json\")"
   ]
  },
  {
   "cell_type": "code",
   "execution_count": null,
   "metadata": {},
   "outputs": [],
   "source": []
  },
  {
   "cell_type": "code",
   "execution_count": 7,
   "metadata": {
    "scrolled": true
   },
   "outputs": [
    {
     "data": {
      "text/html": [
       "<div>\n",
       "<style scoped>\n",
       "    .dataframe tbody tr th:only-of-type {\n",
       "        vertical-align: middle;\n",
       "    }\n",
       "\n",
       "    .dataframe tbody tr th {\n",
       "        vertical-align: top;\n",
       "    }\n",
       "\n",
       "    .dataframe thead th {\n",
       "        text-align: right;\n",
       "    }\n",
       "</style>\n",
       "<table border=\"1\" class=\"dataframe\">\n",
       "  <thead>\n",
       "    <tr style=\"text-align: right;\">\n",
       "      <th></th>\n",
       "      <th>date</th>\n",
       "      <th>close</th>\n",
       "      <th>open</th>\n",
       "    </tr>\n",
       "  </thead>\n",
       "  <tbody>\n",
       "    <tr>\n",
       "      <th>0</th>\n",
       "      <td>1-May-12</td>\n",
       "      <td>68.13</td>\n",
       "      <td>34.12</td>\n",
       "    </tr>\n",
       "    <tr>\n",
       "      <th>1</th>\n",
       "      <td>30-Apr-12</td>\n",
       "      <td>63.98</td>\n",
       "      <td>45.56</td>\n",
       "    </tr>\n",
       "    <tr>\n",
       "      <th>2</th>\n",
       "      <td>27-Apr-12</td>\n",
       "      <td>67.00</td>\n",
       "      <td>67.89</td>\n",
       "    </tr>\n",
       "    <tr>\n",
       "      <th>3</th>\n",
       "      <td>26-Apr-12</td>\n",
       "      <td>89.70</td>\n",
       "      <td>78.54</td>\n",
       "    </tr>\n",
       "    <tr>\n",
       "      <th>4</th>\n",
       "      <td>25-Apr-12</td>\n",
       "      <td>99.00</td>\n",
       "      <td>89.23</td>\n",
       "    </tr>\n",
       "    <tr>\n",
       "      <th>5</th>\n",
       "      <td>24-Apr-12</td>\n",
       "      <td>130.28</td>\n",
       "      <td>99.23</td>\n",
       "    </tr>\n",
       "    <tr>\n",
       "      <th>6</th>\n",
       "      <td>23-Apr-12</td>\n",
       "      <td>166.70</td>\n",
       "      <td>101.34</td>\n",
       "    </tr>\n",
       "    <tr>\n",
       "      <th>7</th>\n",
       "      <td>20-Apr-12</td>\n",
       "      <td>234.98</td>\n",
       "      <td>122.34</td>\n",
       "    </tr>\n",
       "    <tr>\n",
       "      <th>8</th>\n",
       "      <td>19-Apr-12</td>\n",
       "      <td>345.44</td>\n",
       "      <td>134.56</td>\n",
       "    </tr>\n",
       "    <tr>\n",
       "      <th>9</th>\n",
       "      <td>18-Apr-12</td>\n",
       "      <td>443.34</td>\n",
       "      <td>160.45</td>\n",
       "    </tr>\n",
       "    <tr>\n",
       "      <th>10</th>\n",
       "      <td>17-Apr-12</td>\n",
       "      <td>543.70</td>\n",
       "      <td>180.34</td>\n",
       "    </tr>\n",
       "    <tr>\n",
       "      <th>11</th>\n",
       "      <td>16-Apr-12</td>\n",
       "      <td>580.13</td>\n",
       "      <td>210.23</td>\n",
       "    </tr>\n",
       "    <tr>\n",
       "      <th>12</th>\n",
       "      <td>13-Apr-12</td>\n",
       "      <td>605.23</td>\n",
       "      <td>223.45</td>\n",
       "    </tr>\n",
       "    <tr>\n",
       "      <th>13</th>\n",
       "      <td>12-Apr-12</td>\n",
       "      <td>622.77</td>\n",
       "      <td>201.56</td>\n",
       "    </tr>\n",
       "    <tr>\n",
       "      <th>14</th>\n",
       "      <td>11-Apr-12</td>\n",
       "      <td>626.20</td>\n",
       "      <td>212.67</td>\n",
       "    </tr>\n",
       "    <tr>\n",
       "      <th>15</th>\n",
       "      <td>10-Apr-12</td>\n",
       "      <td>628.44</td>\n",
       "      <td>310.45</td>\n",
       "    </tr>\n",
       "    <tr>\n",
       "      <th>16</th>\n",
       "      <td>9-Apr-12</td>\n",
       "      <td>636.23</td>\n",
       "      <td>350.45</td>\n",
       "    </tr>\n",
       "    <tr>\n",
       "      <th>17</th>\n",
       "      <td>5-Apr-12</td>\n",
       "      <td>633.68</td>\n",
       "      <td>410.23</td>\n",
       "    </tr>\n",
       "    <tr>\n",
       "      <th>18</th>\n",
       "      <td>4-Apr-12</td>\n",
       "      <td>624.31</td>\n",
       "      <td>430.56</td>\n",
       "    </tr>\n",
       "    <tr>\n",
       "      <th>19</th>\n",
       "      <td>3-Apr-12</td>\n",
       "      <td>629.32</td>\n",
       "      <td>460.34</td>\n",
       "    </tr>\n",
       "    <tr>\n",
       "      <th>20</th>\n",
       "      <td>2-Apr-12</td>\n",
       "      <td>618.63</td>\n",
       "      <td>510.34</td>\n",
       "    </tr>\n",
       "    <tr>\n",
       "      <th>21</th>\n",
       "      <td>30-Mar-12</td>\n",
       "      <td>599.55</td>\n",
       "      <td>534.23</td>\n",
       "    </tr>\n",
       "    <tr>\n",
       "      <th>22</th>\n",
       "      <td>29-Mar-12</td>\n",
       "      <td>609.86</td>\n",
       "      <td>578.23</td>\n",
       "    </tr>\n",
       "    <tr>\n",
       "      <th>23</th>\n",
       "      <td>28-Mar-12</td>\n",
       "      <td>617.62</td>\n",
       "      <td>590.12</td>\n",
       "    </tr>\n",
       "    <tr>\n",
       "      <th>24</th>\n",
       "      <td>27-Mar-12</td>\n",
       "      <td>614.48</td>\n",
       "      <td>560.34</td>\n",
       "    </tr>\n",
       "    <tr>\n",
       "      <th>25</th>\n",
       "      <td>26-Mar-12</td>\n",
       "      <td>606.98</td>\n",
       "      <td>580.12</td>\n",
       "    </tr>\n",
       "  </tbody>\n",
       "</table>\n",
       "</div>"
      ],
      "text/plain": [
       "         date   close    open\n",
       "0    1-May-12   68.13   34.12\n",
       "1   30-Apr-12   63.98   45.56\n",
       "2   27-Apr-12   67.00   67.89\n",
       "3   26-Apr-12   89.70   78.54\n",
       "4   25-Apr-12   99.00   89.23\n",
       "5   24-Apr-12  130.28   99.23\n",
       "6   23-Apr-12  166.70  101.34\n",
       "7   20-Apr-12  234.98  122.34\n",
       "8   19-Apr-12  345.44  134.56\n",
       "9   18-Apr-12  443.34  160.45\n",
       "10  17-Apr-12  543.70  180.34\n",
       "11  16-Apr-12  580.13  210.23\n",
       "12  13-Apr-12  605.23  223.45\n",
       "13  12-Apr-12  622.77  201.56\n",
       "14  11-Apr-12  626.20  212.67\n",
       "15  10-Apr-12  628.44  310.45\n",
       "16   9-Apr-12  636.23  350.45\n",
       "17   5-Apr-12  633.68  410.23\n",
       "18   4-Apr-12  624.31  430.56\n",
       "19   3-Apr-12  629.32  460.34\n",
       "20   2-Apr-12  618.63  510.34\n",
       "21  30-Mar-12  599.55  534.23\n",
       "22  29-Mar-12  609.86  578.23\n",
       "23  28-Mar-12  617.62  590.12\n",
       "24  27-Mar-12  614.48  560.34\n",
       "25  26-Mar-12  606.98  580.12"
      ]
     },
     "execution_count": 7,
     "metadata": {},
     "output_type": "execute_result"
    }
   ],
   "source": [
    "df"
   ]
  },
  {
   "cell_type": "code",
   "execution_count": 9,
   "metadata": {},
   "outputs": [],
   "source": [
    "date = df['date']\n",
    "close = df['close']\n",
    "open = df['open']"
   ]
  },
  {
   "cell_type": "code",
   "execution_count": 18,
   "metadata": {},
   "outputs": [],
   "source": [
    "data = {'2011':{'date':date.tolist(), 'close':close.tolist(), 'open':open.tolist()}}"
   ]
  },
  {
   "cell_type": "code",
   "execution_count": 20,
   "metadata": {},
   "outputs": [],
   "source": [
    "a = json.dumps(data)"
   ]
  },
  {
   "cell_type": "code",
   "execution_count": null,
   "metadata": {},
   "outputs": [],
   "source": [
    "import json\n",
    "with open('datatemp.json', 'w') as outfile:\n",
    "    json.dump(data, outfile)"
   ]
  },
  {
   "cell_type": "code",
   "execution_count": null,
   "metadata": {},
   "outputs": [],
   "source": []
  },
  {
   "cell_type": "code",
   "execution_count": null,
   "metadata": {
    "collapsed": true
   },
   "outputs": [],
   "source": []
  }
 ],
 "metadata": {
  "kernelspec": {
   "display_name": "Python 3",
   "language": "python",
   "name": "python3"
  },
  "language_info": {
   "codemirror_mode": {
    "name": "ipython",
    "version": 3
   },
   "file_extension": ".py",
   "mimetype": "text/x-python",
   "name": "python",
   "nbconvert_exporter": "python",
   "pygments_lexer": "ipython3",
   "version": "3.6.3"
  }
 },
 "nbformat": 4,
 "nbformat_minor": 2
}
